{
 "cells": [
  {
   "cell_type": "code",
   "execution_count": 3,
   "id": "366a1df8",
   "metadata": {},
   "outputs": [],
   "source": [
    "import converter"
   ]
  },
  {
   "cell_type": "code",
   "execution_count": 5,
   "id": "7c19e729",
   "metadata": {},
   "outputs": [
    {
     "data": {
      "text/plain": [
       "42.212066666666665"
      ]
     },
     "execution_count": 5,
     "metadata": {},
     "output_type": "execute_result"
    }
   ],
   "source": [
    "degrees = 42\n",
    "minutes = 12\n",
    "seconds = 43.44\n",
    "direction = 'N'\n",
    "converter.convert_degrees_to_decimal(degrees,minutes,seconds,direction)"
   ]
  },
  {
   "cell_type": "code",
   "execution_count": 6,
   "id": "406f6b01",
   "metadata": {},
   "outputs": [
    {
     "data": {
      "text/plain": [
       "(34, -39, -10.079999999996891, 'W')"
      ]
     },
     "execution_count": 6,
     "metadata": {},
     "output_type": "execute_result"
    }
   ],
   "source": [
    "decimal_degrees = -34.6528\n",
    "converter.convert_decimal_to_degrees(decimal_degrees)"
   ]
  },
  {
   "cell_type": "code",
   "execution_count": 7,
   "id": "df53eebd",
   "metadata": {},
   "outputs": [
    {
     "data": {
      "text/plain": [
       "66229.152"
      ]
     },
     "execution_count": 7,
     "metadata": {},
     "output_type": "execute_result"
    }
   ],
   "source": [
    "miles = 12.5434\n",
    "converter.convert_miles_to_feet(miles)"
   ]
  },
  {
   "cell_type": "code",
   "execution_count": 9,
   "id": "64946308",
   "metadata": {},
   "outputs": [
    {
     "data": {
      "text/plain": [
       "89.6"
      ]
     },
     "execution_count": 9,
     "metadata": {},
     "output_type": "execute_result"
    }
   ],
   "source": [
    "celsius = 32\n",
    "\n",
    "converter.celsius_to_fahrenheit(celsius)"
   ]
  },
  {
   "cell_type": "code",
   "execution_count": 10,
   "id": "c47b7c8b",
   "metadata": {},
   "outputs": [
    {
     "data": {
      "text/plain": [
       "1467.4032"
      ]
     },
     "execution_count": 10,
     "metadata": {},
     "output_type": "execute_result"
    }
   ],
   "source": [
    "length = 12\n",
    "width = 5.43\n",
    "thickness = 22.52\n",
    "converter.calculate_volume(length, width, thickness)"
   ]
  }
 ],
 "metadata": {
  "kernelspec": {
   "display_name": "Python 3 (ipykernel)",
   "language": "python",
   "name": "python3"
  },
  "language_info": {
   "codemirror_mode": {
    "name": "ipython",
    "version": 3
   },
   "file_extension": ".py",
   "mimetype": "text/x-python",
   "name": "python",
   "nbconvert_exporter": "python",
   "pygments_lexer": "ipython3",
   "version": "3.9.13"
  }
 },
 "nbformat": 4,
 "nbformat_minor": 5
}
